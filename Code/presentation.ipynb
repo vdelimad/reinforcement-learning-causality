{
 "cells": [
  {
   "cell_type": "raw",
   "metadata": {},
   "source": [
    "---\n",
    "title: 'Applying Reinforcement Learning to the Traveling Salesman Problem'\n",
    "subtitle: \"A Journey Through the Asian Capitals\"\n",
    "author:\n",
    "  - name: Victor De Lima (vad49)\n",
    "    affiliations:\n",
    "      - name: Georgetown University\n",
    "date: 2023-04-27\n",
    "format:\n",
    "  revealjs:\n",
    "    slide-number: true\n",
    "    smaller: True\n",
    "    embed-resources: true\n",
    "    theme:\n",
    "     - moon\n",
    "     - custom.scss\n",
    "    code-copy: true\n",
    "    code-line-numbers: true\n",
    "    highlight-style: github\n",
    "bibliography: references.bib\n",
    "---\n"
   ]
  },
  {
   "attachments": {},
   "cell_type": "markdown",
   "metadata": {},
   "source": [
    "## Introduction \n",
    ":::: {.columns}\n",
    "\n",
    "::: {.column width=\"50%\"}\n",
    "\n",
    "text\n",
    ":::\n",
    "\n",
    "::: {.column width=\"50%\"}\n",
    "\n",
    "![Picture of a robot pilot generated with @stability_ai_stable_2023 using prompt \"a smiling robot airplane pilot welcoming you at the entrance of an airplane while wearing an airplane pilot hat\"](../Images/RobotPilots/robot_pilot_1.jpeg){#fig-robot-pilot fig-align=\"center\"}\n",
    "\n",
    ":::\n",
    "\n",
    "::::\n"
   ]
  },
  {
   "attachments": {},
   "cell_type": "markdown",
   "metadata": {},
   "source": [
    "## References"
   ]
  }
 ],
 "metadata": {
  "kernelspec": {
   "display_name": "spring2023env",
   "language": "python",
   "name": "python3"
  },
  "language_info": {
   "name": "python",
   "version": "3.10.8"
  },
  "orig_nbformat": 4
 },
 "nbformat": 4,
 "nbformat_minor": 2
}
