{
 "cells": [
  {
   "cell_type": "raw",
   "metadata": {},
   "source": [
    "---\n",
    "title: 'Applying Reinforcement Learning to the Traveling Salesman Problem'\n",
    "subtitle: \"A Journey Through Asian's Capital Cities\"\n",
    "author:\n",
    "  - name: Victor De Lima (vad49)\n",
    "    affiliations:\n",
    "      - name: Georgetown University\n",
    "date: 2023-04-27\n",
    "format:\n",
    "  revealjs:\n",
    "    slide-number: true\n",
    "    smaller: True\n",
    "    embed-resources: true\n",
    "    theme:\n",
    "     - moon\n",
    "     - custom.scss\n",
    "    code-copy: true\n",
    "    code-line-numbers: true\n",
    "    highlight-style: github\n",
    "bibliography: references.bib\n",
    "---\n"
   ]
  },
  {
   "attachments": {},
   "cell_type": "markdown",
   "metadata": {},
   "source": [
    "## Introduction \n",
    ":::: {.columns}\n",
    "\n",
    "::: {.column width=\"50%\"}\n",
    "\n",
    "text\n",
    ":::\n",
    "\n",
    "::: {.column width=\"50%\"}\n",
    "\n",
    "![Picture of a robot travel agent generated with @stability_ai_stable_2023 using prompt \"_a friendly-looking humanoid robot travel agent greeting you on its work desk and a map hanging in the back wall_\"](../Images/TravelAgents/travel_agent_1.jpeg){#fig-travel-agent fig-align=\"center\"}\n",
    "\n",
    ":::\n",
    "\n",
    "::::\n"
   ]
  },
  {
   "attachments": {},
   "cell_type": "markdown",
   "metadata": {},
   "source": [
    "## Bon Voyage!\n",
    "\n",
    "\n",
    "![Picture of a robot pilot generated with @stability_ai_stable_2023 using prompt \"_a smiling robot airplane pilot welcoming you at the entrance of an airplane while wearing an airplane pilot hat_\"](../Images/RobotPilots/robot_pilot_1.jpeg){#fig-robot-pilot fig-align=\"center\"}\n",
    "\n"
   ]
  },
  {
   "attachments": {},
   "cell_type": "markdown",
   "metadata": {},
   "source": [
    "## References"
   ]
  }
 ],
 "metadata": {
  "kernelspec": {
   "display_name": "spring2023env",
   "language": "python",
   "name": "python3"
  },
  "language_info": {
   "name": "python",
   "version": "3.10.8"
  },
  "orig_nbformat": 4
 },
 "nbformat": 4,
 "nbformat_minor": 2
}
